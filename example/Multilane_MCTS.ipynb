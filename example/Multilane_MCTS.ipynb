{
 "cells": [
  {
   "cell_type": "code",
   "execution_count": 1,
   "metadata": {
    "collapsed": false,
    "scrolled": false
   },
   "outputs": [
    {
     "data": {
      "text/html": [
       "<script charset=\"utf-8\">(function ($, undefined) {\n",
       "\n",
       "    function createElem(tag, attr, content) {\n",
       "\t// TODO: remove jQuery dependency\n",
       "\tvar el = $(\"<\" + tag + \"/>\").attr(attr);\n",
       "\tif (content) {\n",
       "\t    el.append(content);\n",
       "\t}\n",
       "\treturn el[0];\n",
       "    }\n",
       "\n",
       "    // A widget must expose an id field which identifies it to the backend,\n",
       "    // an elem attribute which is will be added to the DOM, and\n",
       "    // a getState() method which returns the value to be sent to the backend\n",
       "    // a sendUpdate() method which sends its current value to the backend\n",
       "    var Widget = {\n",
       "\tid: undefined,\n",
       "\telem: undefined,\n",
       "\tlabel: undefined,\n",
       "\tgetState: function () {\n",
       "\t    return this.elem.value;\n",
       "\t},\n",
       "\tsendUpdate: undefined\n",
       "    };\n",
       "\n",
       "    var Slider = function (typ, id, init) {\n",
       "\tvar attr = { type:  \"range\",\n",
       "\t\t     value: init.value,\n",
       "\t\t     min:   init.min,\n",
       "\t\t     max:   init.max,\n",
       "\t\t     step:  init.step },\n",
       "\t    elem = createElem(\"input\", attr),\n",
       "\t    self = this;\n",
       "\n",
       "\telem.onchange = function () {\n",
       "\t    self.sendUpdate();\n",
       "\t}\n",
       "\n",
       "\tthis.id = id;\n",
       "\tthis.elem = elem;\n",
       "\tthis.label = init.label;\n",
       "\n",
       "\tInputWidgets.commInitializer(this); // Initialize communication\n",
       "    }\n",
       "    Slider.prototype = Widget;\n",
       "\n",
       "    var Checkbox = function (typ, id, init) {\n",
       "\tvar attr = { type: \"checkbox\",\n",
       "\t\t     checked: init.value },\n",
       "\t    elem = createElem(\"input\", attr),\n",
       "\t    self = this;\n",
       "\n",
       "\tthis.getState = function () {\n",
       "\t    return elem.checked;\n",
       "\t}\n",
       "\telem.onchange = function () {\n",
       "\t    self.sendUpdate();\n",
       "\t}\n",
       "\n",
       "\tthis.id = id;\n",
       "\tthis.elem = elem;\n",
       "\tthis.label = init.label;\n",
       "\n",
       "\tInputWidgets.commInitializer(this);\n",
       "    }\n",
       "    Checkbox.prototype = Widget;\n",
       "\n",
       "    var Button = function (typ, id, init) {\n",
       "\tvar attr = { type:    \"button\",\n",
       "\t\t     value:   init.label },\n",
       "\t    elem = createElem(\"input\", attr),\n",
       "\t    self = this;\n",
       "\tthis.getState = function () {\n",
       "\t    return null;\n",
       "\t}\n",
       "\telem.onclick = function () {\n",
       "\t    self.sendUpdate();\n",
       "\t}\n",
       "\n",
       "\tthis.id = id;\n",
       "\tthis.elem = elem;\n",
       "\tthis.label = init.label;\n",
       "\n",
       "\tInputWidgets.commInitializer(this);\n",
       "    }\n",
       "    Button.prototype = Widget;\n",
       "\n",
       "    var Text = function (typ, id, init) {\n",
       "\tvar attr = { type:  \"text\",\n",
       "\t\t     placeholder: init.label,\n",
       "\t\t     value: init.value },\n",
       "\t    elem = createElem(\"input\", attr),\n",
       "\t    self = this;\n",
       "\tthis.getState = function () {\n",
       "\t    return elem.value;\n",
       "\t}\n",
       "\telem.onkeyup = function () {\n",
       "\t    self.sendUpdate();\n",
       "\t}\n",
       "\n",
       "\tthis.id = id;\n",
       "\tthis.elem = elem;\n",
       "\tthis.label = init.label;\n",
       "\n",
       "\tInputWidgets.commInitializer(this);\n",
       "    }\n",
       "    Text.prototype = Widget;\n",
       "\n",
       "    var Textarea = function (typ, id, init) {\n",
       "\tvar attr = { placeholder: init.label },\n",
       "\t    elem = createElem(\"textarea\", attr, init.value),\n",
       "\t    self = this;\n",
       "\tthis.getState = function () {\n",
       "\t    return elem.value;\n",
       "\t}\n",
       "\telem.onchange = function () {\n",
       "\t    self.sendUpdate();\n",
       "\t}\n",
       "\n",
       "\tthis.id = id;\n",
       "\tthis.elem = elem;\n",
       "\tthis.label = init.label;\n",
       "\n",
       "\tInputWidgets.commInitializer(this);\n",
       "    }\n",
       "    Textarea.prototype = Widget;\n",
       "\n",
       "    // RadioButtons\n",
       "    // Dropdown\n",
       "    // HTML\n",
       "    // Latex\n",
       "\n",
       "    var InputWidgets = {\n",
       "\tSlider: Slider,\n",
       "\tCheckbox: Checkbox,\n",
       "\tButton: Button,\n",
       "\tText: Text,\n",
       "\tTextarea: Textarea,\n",
       "\tdebug: false,\n",
       "\tlog: function () {\n",
       "\t    if (InputWidgets.debug) {\n",
       "\t\tconsole.log.apply(console, arguments);\n",
       "\t    }\n",
       "\t},\n",
       "\t// a central way to initalize communication\n",
       "\t// for widgets.\n",
       "\tcommInitializer: function (widget) {\n",
       "\t    widget.sendUpdate = function () {};\n",
       "\t}\n",
       "    };\n",
       "\n",
       "    window.InputWidgets = InputWidgets;\n",
       "\n",
       "})(jQuery, undefined);\n",
       "</script>"
      ]
     },
     "metadata": {},
     "output_type": "display_data"
    },
    {
     "data": {
      "text/html": [
       "<div id=\"interact-js-shim\">\n",
       "    <script charset=\"utf-8\">\n",
       "(function (IPython, $, _, MathJax, Widgets) {\n",
       "    $.event.special.destroyed = {\n",
       "\tremove: function(o) {\n",
       "\t    if (o.handler) {\n",
       "\t\to.handler.apply(this, arguments)\n",
       "\t    }\n",
       "\t}\n",
       "    }\n",
       "\n",
       "    var OutputArea = IPython.version >= \"4.0.0\" ? require(\"notebook/js/outputarea\").OutputArea : IPython.OutputArea;\n",
       "\n",
       "    var redrawValue = function (container, type, val) {\n",
       "\tvar selector = $(\"<div/>\");\n",
       "\tvar oa = new OutputArea(_.extend(selector, {\n",
       "\t    selector: selector,\n",
       "\t    prompt_area: true,\n",
       "\t    events: IPython.events,\n",
       "\t    keyboard_manager: IPython.keyboard_manager\n",
       "\t})); // Hack to work with IPython 2.1.0\n",
       "\n",
       "\tswitch (type) {\n",
       "\tcase \"image/png\":\n",
       "            var _src = 'data:' + type + ';base64,' + val;\n",
       "\t    $(container).find(\"img\").attr('src', _src);\n",
       "\t    break;\n",
       "\tdefault:\n",
       "\t    var toinsert = OutputArea.append_map[type].apply(\n",
       "\t\toa, [val, {}, selector]\n",
       "\t    );\n",
       "\t    $(container).empty().append(toinsert.contents());\n",
       "\t    selector.remove();\n",
       "\t}\n",
       "\tif (type === \"text/latex\" && MathJax) {\n",
       "\t    MathJax.Hub.Queue([\"Typeset\", MathJax.Hub, toinsert.get(0)]);\n",
       "\t}\n",
       "    }\n",
       "\n",
       "\n",
       "    $(document).ready(function() {\n",
       "\tWidgets.debug = false; // log messages etc in console.\n",
       "\tfunction initComm(evt, data) {\n",
       "\t    var comm_manager = data.kernel.comm_manager;\n",
       "        //_.extend(comm_manager.targets, require(\"widgets/js/widget\"))\n",
       "\t    comm_manager.register_target(\"Signal\", function (comm) {\n",
       "            comm.on_msg(function (msg) {\n",
       "                //Widgets.log(\"message received\", msg);\n",
       "                var val = msg.content.data.value;\n",
       "                $(\".signal-\" + comm.comm_id).each(function() {\n",
       "                var type = $(this).data(\"type\");\n",
       "                if (val[type]) {\n",
       "                    redrawValue(this, type, val[type], type);\n",
       "                }\n",
       "                });\n",
       "                delete val;\n",
       "                delete msg.content.data.value;\n",
       "            });\n",
       "\t    });\n",
       "\n",
       "\t    // coordingate with Comm and redraw Signals\n",
       "\t    // XXX: Test using Reactive here to improve performance\n",
       "\t    $([IPython.events]).on(\n",
       "\t\t'output_appended.OutputArea', function (event, type, value, md, toinsert) {\n",
       "\t\t    if (md && md.reactive) {\n",
       "                // console.log(md.comm_id);\n",
       "                toinsert.addClass(\"signal-\" + md.comm_id);\n",
       "                toinsert.data(\"type\", type);\n",
       "                // Signal back indicating the mimetype required\n",
       "                var comm_manager = IPython.notebook.kernel.comm_manager;\n",
       "                var comm = comm_manager.comms[md.comm_id];\n",
       "                comm.then(function (c) {\n",
       "                    c.send({action: \"subscribe_mime\",\n",
       "                       mime: type});\n",
       "                    toinsert.bind(\"destroyed\", function() {\n",
       "                        c.send({action: \"unsubscribe_mime\",\n",
       "                               mime: type});\n",
       "                    });\n",
       "                })\n",
       "\t\t    }\n",
       "\t    });\n",
       "\t}\n",
       "\n",
       "\ttry {\n",
       "\t    // try to initialize right away. otherwise, wait on the status_started event.\n",
       "\t    initComm(undefined, IPython.notebook);\n",
       "\t} catch (e) {\n",
       "\t    $([IPython.events]).on('kernel_created.Kernel kernel_created.Session', initComm);\n",
       "\t}\n",
       "    });\n",
       "})(IPython, jQuery, _, MathJax, InputWidgets);\n",
       "</script>\n",
       "    <script>\n",
       "        window.interactLoadedFlag = true\n",
       "       $(\"#interact-js-shim\").bind(\"destroyed\", function () {\n",
       "           if (window.interactLoadedFlag) {\n",
       "               console.warn(\"JavaScript required by Interact will be removed if you remove this cell or run using Interact more than once.\")\n",
       "           }\n",
       "       })\n",
       "       $([IPython.events]).on(\"kernel_starting.Kernel kernel_restarting.Kernel\", function () { window.interactLoadedFlag = false })\n",
       "   </script>\n",
       "</div>"
      ]
     },
     "metadata": {},
     "output_type": "display_data"
    },
    {
     "name": "stderr",
     "output_type": "stream",
     "text": [
      "\n",
      "WARNING: deprecated syntax \"[a=>b, ...]\" at /home/zach/.julia/MultiLanePOMDP/src/ML_model.jl:269.\n",
      "Use \"Dict(a=>b, ...)\" instead.\n",
      "\n",
      "WARNING: deprecated syntax \"[a=>b, ...]\" at /home/zach/.julia/MultiLanePOMDP/src/ML_model.jl:271.\n",
      "Use \"Dict(a=>b, ...)\" instead.\n"
     ]
    },
    {
     "data": {
      "text/plain": [
       "generate (generic function with 6 methods)"
      ]
     },
     "execution_count": 1,
     "metadata": {},
     "output_type": "execute_result"
    }
   ],
   "source": [
    "#Requires MCTS, POMDPs\n",
    "#include(joinpath(\"MultiLanePOMDP\",\"src\",\"Multilane.jl\"))\n",
    "include(joinpath(\"..\",\"src\",\"Multilane.jl\"))\n",
    "\n",
    "function MCTS.generate(mdp::MLPOMDP,s::MLState,a::MLAction,rng::AbstractRNG)\n",
    "  #println(\"hey\")\n",
    "  sp = next(rng,mdp,s,a)\n",
    "  r = reward(mdp,s,a,sp)\n",
    "  return (sp,r)\n",
    "end"
   ]
  },
  {
   "cell_type": "code",
   "execution_count": 3,
   "metadata": {
    "collapsed": false
   },
   "outputs": [
    {
     "data": {
      "text/plain": [
       "MLPOMDP(3,800,3,#undef,-1.0,-1.0e-5,-5.0e-6,-1.0e-5,-1.0e-5,-2.0e-5,0.1,1.0,PhysicalParam(0.75,2.0,4.0,31.0,4.0,2.0,0.25,35.0,27.0,31.0,35.0,27.0,100,1,200.0,3,2400,[27.0,27.0808,27.1616,27.2424,27.3232,27.404,27.4848,27.5657,27.6465,27.7273  …  34.2727,34.3535,34.4343,34.5152,34.596,34.6768,34.7576,34.8384,34.9192,35.0],[0.0,0.250313,0.500626,0.750939,1.00125,1.25156,1.50188,1.75219,2.0025,2.25282  …  197.747,197.997,198.248,198.498,198.748,198.999,199.249,199.499,199.75,200.0]),[BehaviorModel(IDMParam(1.0,1.0,2.0,27.5,4.0,4.0),MOBILParam(0.5,4.0,0.2),0.999,1),BehaviorModel(IDMParam(1.5,1.5,1.4,27.5,4.0,4.0),MOBILParam(0.25,4.0,0.2),0.99,2),BehaviorModel(IDMParam(2.0,2.0,0.8,27.5,4.0,4.0),MOBILParam(0.0,4.0,0.2),0.95,3),BehaviorModel(IDMParam(1.0,1.0,2.0,31.0,4.0,4.0),MOBILParam(0.5,4.0,0.2),0.999,4),BehaviorModel(IDMParam(1.5,1.5,1.4,31.0,4.0,4.0),MOBILParam(0.25,4.0,0.2),0.99,5),BehaviorModel(IDMParam(2.0,2.0,0.8,31.0,4.0,4.0),MOBILParam(0.0,4.0,0.2),0.95,6),BehaviorModel(IDMParam(1.0,1.0,2.0,35.0,4.0,4.0),MOBILParam(0.5,4.0,0.2),0.999,7),BehaviorModel(IDMParam(1.5,1.5,1.4,35.0,4.0,4.0),MOBILParam(0.25,4.0,0.2),0.99,8),BehaviorModel(IDMParam(2.0,2.0,0.8,35.0,4.0,4.0),MOBILParam(0.0,4.0,0.2),0.95,9)],9,0.05,0.05,0.05,0.025,0.5,-0.01,0.5,[-3,-2,-1,0,1],false)"
      ]
     },
     "execution_count": 3,
     "metadata": {},
     "output_type": "execute_result"
    }
   ],
   "source": [
    "#Set up problem configuration\n",
    "nb_lanes = 2\n",
    "pp = PhysicalParam(nb_lanes,lane_length=200.) #2.=>col_length=8\n",
    "r_crash = -1.\n",
    "accel_cost = -1e-5\n",
    "decel_cost = -5e-6\n",
    "invalid_cost = -1e-5\n",
    "lineride_cost = -1e-5\n",
    "lanechange_cost = -2e-5\n",
    "_discount = 1.\n",
    "pomdp = MLPOMDP(nb_cars=3,nb_lanes=nb_lanes,phys_param=pp,p_fail_enter=-0.01,\n",
    "            r_crash=r_crash,accel_cost=accel_cost,decel_cost=decel_cost,\n",
    "invalid_cost=invalid_cost,lineride_cost=lineride_cost,lanechange_cost=lanechange_cost,discount=_discount)"
   ]
  },
  {
   "cell_type": "code",
   "execution_count": 4,
   "metadata": {
    "collapsed": false,
    "scrolled": true
   },
   "outputs": [
    {
     "data": {
      "text/plain": [
       "MCTS.MCTSPolicy(MCTS.MCTSSolver(100,10,1.0,MersenneTwister(Base.dSFMT.DSFMT_state(Int32[748398797,1073523691,-1738140313,1073664641,-1492392947,1073490074,-1625281839,1073254801,1875112882,1073717145  …  943540191,1073626624,1091647724,1073372234,-1273625233,-823628301,835224507,991807863,382,0]),[2.33132e-317,7.89483e-317,0.0,0.0,3.47447e-316,4.94066e-324,0.0,0.0,0.0,0.0  …  0.0,0.0,0.0,0.0,0.0,1.8231e-321,3.49152e-316,6.90166e-310,3.47729e-316,0.0],382,UInt32[0x00000000]),MCTS.RandomSolver(MersenneTwister(Base.dSFMT.DSFMT_state(Int32[748398797,1073523691,-1738140313,1073664641,-1492392947,1073490074,-1625281839,1073254801,1875112882,1073717145  …  943540191,1073626624,1091647724,1073372234,-1273625233,-823628301,835224507,991807863,382,0]),[2.33132e-317,7.89483e-317,0.0,0.0,3.47447e-316,4.94066e-324,0.0,0.0,0.0,0.0  …  0.0,0.0,0.0,0.0,0.0,1.8231e-321,3.49152e-316,6.90166e-310,3.47729e-316,0.0],382,UInt32[0x00000000])),false),MLPOMDP(3,800,3,#undef,-1.0,-1.0e-5,-5.0e-6,-1.0e-5,-1.0e-5,-2.0e-5,0.1,1.0,PhysicalParam(0.75,2.0,4.0,31.0,4.0,2.0,0.25,35.0,27.0,31.0,35.0,27.0,100,1,200.0,3,2400,[27.0,27.0808,27.1616,27.2424,27.3232,27.404,27.4848,27.5657,27.6465,27.7273  …  34.2727,34.3535,34.4343,34.5152,34.596,34.6768,34.7576,34.8384,34.9192,35.0],[0.0,0.250313,0.500626,0.750939,1.00125,1.25156,1.50188,1.75219,2.0025,2.25282  …  197.747,197.997,198.248,198.498,198.748,198.999,199.249,199.499,199.75,200.0]),[BehaviorModel(IDMParam(1.0,1.0,2.0,27.5,4.0,4.0),MOBILParam(0.5,4.0,0.2),0.999,1),BehaviorModel(IDMParam(1.5,1.5,1.4,27.5,4.0,4.0),MOBILParam(0.25,4.0,0.2),0.99,2),BehaviorModel(IDMParam(2.0,2.0,0.8,27.5,4.0,4.0),MOBILParam(0.0,4.0,0.2),0.95,3),BehaviorModel(IDMParam(1.0,1.0,2.0,31.0,4.0,4.0),MOBILParam(0.5,4.0,0.2),0.999,4),BehaviorModel(IDMParam(1.5,1.5,1.4,31.0,4.0,4.0),MOBILParam(0.25,4.0,0.2),0.99,5),BehaviorModel(IDMParam(2.0,2.0,0.8,31.0,4.0,4.0),MOBILParam(0.0,4.0,0.2),0.95,6),BehaviorModel(IDMParam(1.0,1.0,2.0,35.0,4.0,4.0),MOBILParam(0.5,4.0,0.2),0.999,7),BehaviorModel(IDMParam(1.5,1.5,1.4,35.0,4.0,4.0),MOBILParam(0.25,4.0,0.2),0.99,8),BehaviorModel(IDMParam(2.0,2.0,0.8,35.0,4.0,4.0),MOBILParam(0.0,4.0,0.2),0.95,9)],9,0.05,0.05,0.05,0.025,0.5,-0.01,0.5,[-3,-2,-1,0,1],false),MCTS.RandomPolicy(MLPOMDP(3,800,3,#undef,-1.0,-1.0e-5,-5.0e-6,-1.0e-5,-1.0e-5,-2.0e-5,0.1,1.0,PhysicalParam(0.75,2.0,4.0,31.0,4.0,2.0,0.25,35.0,27.0,31.0,35.0,27.0,100,1,200.0,3,2400,[27.0,27.0808,27.1616,27.2424,27.3232,27.404,27.4848,27.5657,27.6465,27.7273  …  34.2727,34.3535,34.4343,34.5152,34.596,34.6768,34.7576,34.8384,34.9192,35.0],[0.0,0.250313,0.500626,0.750939,1.00125,1.25156,1.50188,1.75219,2.0025,2.25282  …  197.747,197.997,198.248,198.498,198.748,198.999,199.249,199.499,199.75,200.0]),[BehaviorModel(IDMParam(1.0,1.0,2.0,27.5,4.0,4.0),MOBILParam(0.5,4.0,0.2),0.999,1),BehaviorModel(IDMParam(1.5,1.5,1.4,27.5,4.0,4.0),MOBILParam(0.25,4.0,0.2),0.99,2),BehaviorModel(IDMParam(2.0,2.0,0.8,27.5,4.0,4.0),MOBILParam(0.0,4.0,0.2),0.95,3),BehaviorModel(IDMParam(1.0,1.0,2.0,31.0,4.0,4.0),MOBILParam(0.5,4.0,0.2),0.999,4),BehaviorModel(IDMParam(1.5,1.5,1.4,31.0,4.0,4.0),MOBILParam(0.25,4.0,0.2),0.99,5),BehaviorModel(IDMParam(2.0,2.0,0.8,31.0,4.0,4.0),MOBILParam(0.0,4.0,0.2),0.95,6),BehaviorModel(IDMParam(1.0,1.0,2.0,35.0,4.0,4.0),MOBILParam(0.5,4.0,0.2),0.999,7),BehaviorModel(IDMParam(1.5,1.5,1.4,35.0,4.0,4.0),MOBILParam(0.25,4.0,0.2),0.99,8),BehaviorModel(IDMParam(2.0,2.0,0.8,35.0,4.0,4.0),MOBILParam(0.0,4.0,0.2),0.95,9)],9,0.05,0.05,0.05,0.025,0.5,-0.01,0.5,[-3,-2,-1,0,1],false),MersenneTwister(Base.dSFMT.DSFMT_state(Int32[748398797,1073523691,-1738140313,1073664641,-1492392947,1073490074,-1625281839,1073254801,1875112882,1073717145  …  943540191,1073626624,1091647724,1073372234,-1273625233,-823628301,835224507,991807863,382,0]),[2.33132e-317,7.89483e-317,0.0,0.0,3.47447e-316,4.94066e-324,0.0,0.0,0.0,0.0  …  0.0,0.0,0.0,0.0,0.0,1.8231e-321,3.49152e-316,6.90166e-310,3.47729e-316,0.0],382,UInt32[0x00000000]),ActionSpace([MLAction(-3.0,-1),MLAction(-2.0,-1),MLAction(-1.0,-1),MLAction(0.0,-1),MLAction(1.0,-1),MLAction(-3.0,0),MLAction(-2.0,0),MLAction(-1.0,0),MLAction(0.0,0),MLAction(1.0,0),MLAction(-3.0,1),MLAction(-2.0,1),MLAction(-1.0,1),MLAction(0.0,1),MLAction(1.0,1)])),Dict{POMDPs.State,MCTS.StateNode}(),MLStateDistr(Dict{MLState,Float64}()),MCTS.MDPRolloutSimulator(MersenneTwister(Base.dSFMT.DSFMT_state(Int32[748398797,1073523691,-1738140313,1073664641,-1492392947,1073490074,-1625281839,1073254801,1875112882,1073717145  …  943540191,1073626624,1091647724,1073372234,-1273625233,-823628301,835224507,991807863,382,0]),[2.33132e-317,7.89483e-317,0.0,0.0,3.47447e-316,4.94066e-324,0.0,0.0,0.0,0.0  …  0.0,0.0,0.0,0.0,0.0,1.8231e-321,3.49152e-316,6.90166e-310,3.47729e-316,0.0],382,UInt32[0x00000000]),0,0.0))"
      ]
     },
     "execution_count": 4,
     "metadata": {},
     "output_type": "execute_result"
    }
   ],
   "source": [
    "# initialize the solver\n",
    "# the hyper parameters in MCTS can be tricky to set properly\n",
    "# n_iterations: the number of iterations that each search runs for\n",
    "# depth: the depth of the tree (how far away from the current state the algorithm explores)\n",
    "# exploration constant: this is how much weight to put into exploratory actions. \n",
    "# A good rule of thumb is to set the exploration constant to what you expect the upper bound on your average \n",
    "#  expected reward to be.\n",
    "\n",
    "solver = MCTSSolver(n_iterations=100, depth=10, exploration_constant=1.0)\n",
    "\n",
    "# initialize the policy by passing in your problem and the solver\n",
    "policy = MCTSPolicy(solver, pomdp)"
   ]
  },
  {
   "cell_type": "code",
   "execution_count": 6,
   "metadata": {
    "collapsed": false,
    "scrolled": true
   },
   "outputs": [
    {
     "name": "stdout",
     "output_type": "stream",
     "text": [
      "Total discounted reward: -0.0013850000000000008"
     ]
    }
   ],
   "source": [
    "rng = MersenneTwister(9) # initialize a random number generator\n",
    "n_ep = 1\n",
    "Rs = [Float64[] for _=1:n_ep]#zeros(n_ep)\n",
    "nb_early_term = 0\n",
    "histS = Array{MLState,1}[]\n",
    "histA = Array{MLAction,1}[]\n",
    "for j = 1:n_ep\n",
    "    push!(histS,MLState[])\n",
    "    push!(histA,MLAction[])\n",
    "    s = init(pomdp,rng)\n",
    "    rtot = 0.0\n",
    "    disc = 1.0\n",
    "    for i = 1:100\n",
    "        # get the action from our SARSOP policy\n",
    "        a = action(policy, s) # the QMDP action function returns the POMDP action not its index like the SARSOP action function\n",
    "        #if j == n_ep\n",
    "            push!(histS[j],s)\n",
    "            push!(histA[j],a)\n",
    "        #end\n",
    "        # compute the reward\n",
    "        r = reward(pomdp, s, a)\n",
    "        push!(Rs[j],r)\n",
    "        rtot += disc*r\n",
    "        if isterminal(pomdp,s,a)\n",
    "            nb_early_term += 1\n",
    "            break\n",
    "        end\n",
    "        disc *= discount(pomdp)\n",
    "        print(\"\\rEp:$j, t=$i\")\n",
    "        # transition the system state\n",
    "        \"\"\"\n",
    "        trans_dist = transition(mdp, s, a)\n",
    "        rand(rng, trans_dist, s)\n",
    "        \"\"\"\n",
    "        s = next(rng,pomdp,s,a)\n",
    "    end\n",
    "    #Rs[j] = rtot\n",
    "    print(\"\\rTotal discounted reward: $rtot\")\n",
    "end"
   ]
  },
  {
   "cell_type": "code",
   "execution_count": 8,
   "metadata": {
    "collapsed": false,
    "scrolled": false
   },
   "outputs": [
    {
     "name": "stderr",
     "output_type": "stream",
     "text": [
      "WARNING: This should be run in a Jupyter Notebook\n"
     ]
    },
    {
     "data": {
      "text/html": [],
      "text/plain": [
       "Interact.Slider{Int64}(Signal{Int64}(50, nactions=0),\"i\",50,1:100,true)"
      ]
     },
     "metadata": {},
     "output_type": "display_data"
    },
    {
     "data": {
      "image/png": "[encoded data removed]",
      "text/plain": [
       "PyPlot.Figure(PyObject <matplotlib.figure.Figure object at 0x7f0a3bf99290>)"
      ]
     },
     "execution_count": 8,
     "metadata": {
      "comm_id": "80ebd024-1c6c-4692-8344-65884b65ba3c",
      "reactive": true
     },
     "output_type": "execute_result"
    }
   ],
   "source": [
    "blas = 1\n",
    "display_sim(pomdp,histS[blas],histA[blas])\n",
    "#Warning! Only use if it crashes relatively early--unintelligible otherwise\n",
    "#abs_display_sim(pomdp,histS[blas],histA[blas])"
   ]
  },
  {
   "cell_type": "code",
   "execution_count": 10,
   "metadata": {
    "collapsed": false
   },
   "outputs": [
    {
     "name": "stdout",
     "output_type": "stream",
     "text": [
      "0.0 +/- 0.0\n"
     ]
    },
    {
     "data": {
      "text/plain": [
       "0"
      ]
     },
     "execution_count": 10,
     "metadata": {},
     "output_type": "execute_result"
    }
   ],
   "source": [
    "j = 52 #if there's early stopping, else j = n_ep\n",
    "crash_rate = nb_early_term/j\n",
    "println(\"$crash_rate +/- $(sqrt(crash_rate*(1.-crash_rate)/j))\")\n",
    "nb_early_term"
   ]
  },
  {
   "cell_type": "code",
   "execution_count": 13,
   "metadata": {
    "collapsed": false
   },
   "outputs": [
    {
     "name": "stdout",
     "output_type": "stream",
     "text": [
      "(-0.0013750000000000008,NaN)\n",
      "(-0.0008875550006983789,NaN)\n",
      "0\n"
     ]
    }
   ],
   "source": [
    "#Calculate the total (discounted/undiscounted) cost, minus crashing\n",
    "n_ep = 1\n",
    "R_disc = zeros(n_ep)\n",
    "R_MC = zeros(n_ep)\n",
    "for (ep,R) in enumerate(Rs[1:n_ep])\n",
    "    disc = 1.\n",
    "    for i =1:length(R)-1\n",
    "        r = R[i]\n",
    "        R_disc[ep] += disc*r\n",
    "        disc *= 0.99\n",
    "        R_MC[ep] += r\n",
    "    end\n",
    "end\n",
    "\n",
    "println((mean(R_MC),std(R_MC)))\n",
    "println((mean(R_disc),std(R_disc)))\n",
    "println(nb_early_term)\n",
    "#ec=10:  ~30% crash, -0.08 reward\n",
    "#ec=100: ~36% crash, -0.1578 reward\n",
    "#ec=30: ~24.8% crash, -0.09 reward || 32.72% crash, -0.1467 reward (100 sim)\n",
    "#ec=60: ~44% crash, -0.177 reward\n",
    "###4 cars, 3 lanes: 41% crash rate, -0.126 reward"
   ]
  },
  {
   "cell_type": "code",
   "execution_count": 14,
   "metadata": {
    "collapsed": false,
    "scrolled": true
   },
   "outputs": [
    {
     "ename": "LoadError",
     "evalue": "LoadError: BoundsError: attempt to access 1-element Array{Array{MLState,1},1}:\n [MLState(1,31.0,false,[CarState((-1.0,1),1.0,0,BehaviorModel(IDMParam(1.0,1.0,2.0,27.5,4.0,4.0),MOBILParam(0.5,4.0,0.2),0.999,1)),CarState((-1.0,1),1.0,0,BehaviorModel(IDMParam(1.0,1.0,2.0,27.5,4.0,4.0),MOBILParam(0.5,4.0,0.2),0.999,1)),CarState((-1.0,1),1.0,0,BehaviorModel(IDMParam(1.0,1.0,2.0,27.5,4.0,4.0),MOBILParam(0.5,4.0,0.2),0.999,1))]),MLState(1,28.75,false,[CarState((0.0,1),33.800110041549374,-1,BehaviorModel(IDMParam(1.5,1.5,1.4,32.606308649646884,4.0,4.0),MOBILParam(0.25,4.0,0.2),0.99,5)),CarState((0.0,3),33.00850170056128,-1,BehaviorModel(IDMParam(1.0,1.0,2.0,27.62558076529883,4.0,4.0),MOBILParam(0.5,4.0,0.2),0.999,1)),CarState((200.0,1),27.55225610756444,0,BehaviorModel(IDMParam(1.5,1.5,1.4,28.386478791622846,4.0,4.0),MOBILParam(0.25,4.0,0.2),0.99,2))]),MLState(1,29.5,false,[CarState((3.7875825311620304,1),33.192258444355105,0,BehaviorModel(IDMParam(1.5,1.5,1.4,32.606308649646884,4.0,4.0),MOBILParam(0.25,4.0,0.2),0.99,5)),CarState((3.193876275420962,2),32.25850170056128,1,BehaviorModel(IDMParam(1.0,1.0,2.0,27.62558076529883,4.0,4.0),MOBILParam(0.5,4.0,0.2),0.999,1)),CarState((199.10169208067333,1),27.676746904593276,0,BehaviorModel(IDMParam(1.5,1.5,1.4,28.386478791622846,4.0,4.0),MOBILParam(0.25,4.0,0.2),0.99,2))]),MLState(1,28.0,false,[CarState((6.556776364428359,1),32.72710414981733,0,BehaviorModel(IDMParam(1.5,1.5,1.4,32.606308649646884,4.0,4.0),MOBILParam(0.25,4.0,0.2),0.99,5)),CarState((5.262752550841924,3),31.508501700561283,0,BehaviorModel(IDMParam(1.0,1.0,2.0,27.62558076529883,4.0,4.0),MOBILParam(0.5,4.0,0.2),0.999,1)),CarState((197.73425225911828,1),27.78305253851937,0,BehaviorModel(IDMParam(1.5,1.5,1.4,28.386478791622846,4.0,4.0),MOBILParam(0.25,4.0,0.2),0.99,2))]),MLState(1,27.25,false,[CarState((10.102104476791355,1),32.364683719935954,0,BehaviorModel(IDMParam(1.5,1.5,1.4,32.606308649646884,4.0,4.0),MOBILParam(0.25,4.0,0.2),0.99,5)),CarState((7.894128826262886,3),30.9859433514908,0,BehaviorModel(IDMParam(1.0,1.0,2.0,27.62558076529883,4.0,4.0),MOBILParam(0.5,4.0,0.2),0.999,1)),CarState((197.5715416630078,1),27.87363408590805,0,BehaviorModel(IDMParam(1.5,1.5,1.4,28.386478791622846,4.0,4.0),MOBILParam(0.25,4.0,0.2),0.99,2))]),MLState(1,27.0,false,[CarState((13.93811726674332,1),32.078245647378104,0,BehaviorModel(IDMParam(1.5,1.5,1.4,32.606308649646884,4.0,4.0),MOBILParam(0.25,4.0,0.2),0.99,5)),CarState((10.696086339880985,3),30.545614172287507,0,BehaviorModel(IDMParam(1.0,1.0,2.0,27.62558076529883,4.0,4.0),MOBILParam(0.5,4.0,0.2),0.999,1)),CarState((198.03926722743884,1),27.950674261343345,0,BehaviorModel(IDMParam(1.5,1.5,1.4,28.386478791622846,4.0,4.0),MOBILParam(0.25,4.0,0.2),0.99,2))]),MLState(1,27.0,false,[CarState((17.7468015022769,1),31.849109084213136,0,BehaviorModel(IDMParam(1.5,1.5,1.4,32.606308649646884,4.0,4.0),MOBILParam(0.25,4.0,0.2),0.99,5)),CarState((13.355296969096615,3),30.171422503766323,0,BehaviorModel(IDMParam(1.0,1.0,2.0,27.62558076529883,4.0,4.0),MOBILParam(0.5,4.0,0.2),0.999,1)),CarState((198.75227292344636,1),28.016093118008907,0,BehaviorModel(IDMParam(1.5,1.5,1.4,28.386478791622846,4.0,4.0),MOBILParam(0.25,4.0,0.2),0.99,2))]),MLState(1,27.0,false,[CarState((21.38363331543675,1),31.6638049495226,0,BehaviorModel(IDMParam(1.5,1.5,1.4,32.606308649646884,4.0,4.0),MOBILParam(0.25,4.0,0.2),0.99,5)),CarState((15.733863846921357,3),29.851233173367316,0,BehaviorModel(IDMParam(1.0,1.0,2.0,27.62558076529883,4.0,4.0),MOBILParam(0.5,4.0,0.2),0.999,1)),CarState((199.51434276195303,1),28.07156801384842,0,BehaviorModel(IDMParam(1.5,1.5,1.4,28.386478791622846,4.0,4.0),MOBILParam(0.25,4.0,0.2),0.99,2))]),MLState(1,27.0,false,[CarState((24.8814870275787,1),31.51237978330458,0,BehaviorModel(IDMParam(1.5,1.5,1.4,32.606308649646884,4.0,4.0),MOBILParam(0.25,4.0,0.2),0.99,5)),CarState((17.872288726946845,3),29.575686405625255,0,BehaviorModel(IDMParam(1.0,1.0,2.0,27.62558076529883,4.0,4.0),MOBILParam(0.5,4.0,0.2),0.999,1)),CarState((-1.0,1),1.0,0,BehaviorModel(IDMParam(1.0,1.0,2.0,27.5,4.0,4.0),MOBILParam(0.5,4.0,0.2),0.999,1))]),MLState(1,27.0,false,[CarState((28.265771865057136,1),31.65331919836363,0,BehaviorModel(IDMParam(1.5,1.5,1.4,32.606308649646884,4.0,4.0),MOBILParam(0.25,4.0,0.2),0.99,5)),CarState((19.804053531165785,3),29.337426088060933,0,BehaviorModel(IDMParam(1.0,1.0,2.0,27.62558076529883,4.0,4.0),MOBILParam(0.5,4.0,0.2),0.999,1)),CarState((-1.0,1),1.0,0,BehaviorModel(IDMParam(1.0,1.0,2.0,27.5,4.0,4.0),MOBILParam(0.5,4.0,0.2),0.999,1))])  …  MLState(3,27.0,false,[CarState((156.18660219456632,1),32.586213251688314,0,BehaviorModel(IDMParam(1.5,1.5,1.4,32.606308649646884,4.0,4.0),MOBILParam(0.25,4.0,0.2),0.99,5)),CarState((63.55949403684808,3),27.399153687780952,0,BehaviorModel(IDMParam(1.5,1.5,1.4,32.0683132851447,4.0,4.0),MOBILParam(0.25,4.0,0.2),0.99,5)),CarState((120.3282992683822,3),28.220691957611812,0,BehaviorModel(IDMParam(2.0,2.0,0.8,28.225645195372238,4.0,4.0),MOBILParam(0.0,4.0,0.2),0.95,3))]),MLState(3,27.0,false,[CarState((160.37626213333255,1),32.5862140663773,0,BehaviorModel(IDMParam(1.5,1.5,1.4,32.606308649646884,4.0,4.0),MOBILParam(0.25,4.0,0.2),0.99,5)),CarState((63.8588593026838,3),27.433797996053727,0,BehaviorModel(IDMParam(1.5,1.5,1.4,32.0683132851447,4.0,4.0),MOBILParam(0.25,4.0,0.2),0.99,5)),CarState((121.24381823659105,3),28.22068513352565,0,BehaviorModel(IDMParam(2.0,2.0,0.8,28.225645195372238,4.0,4.0),MOBILParam(0.0,4.0,0.2),0.95,3))]),MLState(3,27.0,false,[CarState((164.56592268311553,1),32.586214768711386,0,BehaviorModel(IDMParam(1.5,1.5,1.4,32.606308649646884,4.0,4.0),MOBILParam(0.25,4.0,0.2),0.99,5)),CarState((64.18420779972409,3),27.466826116643055,0,BehaviorModel(IDMParam(1.5,1.5,1.4,32.0683132851447,4.0,4.0),MOBILParam(0.25,4.0,0.2),0.99,5)),CarState((122.15933208673529,3),28.2206797597247,0,BehaviorModel(IDMParam(2.0,2.0,0.8,28.225645195372238,4.0,4.0),MOBILParam(0.0,4.0,0.2),0.95,3))]),MLState(3,27.0,false,[CarState((168.75558375964908,1),32.586215374185585,0,BehaviorModel(IDMParam(1.5,1.5,1.4,32.606308649646884,4.0,4.0),MOBILParam(0.25,4.0,0.2),0.99,5)),CarState((64.53432738720639,3),27.49830029263509,0,BehaviorModel(IDMParam(1.5,1.5,1.4,32.0683132851447,4.0,4.0),MOBILParam(0.25,4.0,0.2),0.99,5)),CarState((123.07484190652882,3),28.220675527987144,0,BehaviorModel(IDMParam(2.0,2.0,0.8,28.225645195372238,4.0,4.0),MOBILParam(0.0,4.0,0.2),0.95,3))]),MLState(3,27.75,false,[CarState((172.94524529028828,1),32.58621589615798,0,BehaviorModel(IDMParam(1.5,1.5,1.4,32.606308649646884,4.0,4.0),MOBILParam(0.25,4.0,0.2),0.99,5)),CarState((64.9080526066827,3),27.52829018263415,0,BehaviorModel(IDMParam(1.5,1.5,1.4,32.0683132851447,4.0,4.0),MOBILParam(0.25,4.0,0.2),0.99,5)),CarState((123.99034855251918,3),28.220672195596276,0,BehaviorModel(IDMParam(2.0,2.0,0.8,28.225645195372238,4.0,4.0),MOBILParam(0.0,4.0,0.2),0.95,3))]),MLState(3,27.75,false,[CarState((176.57240721240677,1),32.58621634614442,0,BehaviorModel(IDMParam(1.5,1.5,1.4,32.606308649646884,4.0,4.0),MOBILParam(0.25,4.0,0.2),0.99,5)),CarState((64.74177024365832,3),27.55686811599041,0,BehaviorModel(IDMParam(1.5,1.5,1.4,32.0683132851447,4.0,4.0),MOBILParam(0.25,4.0,0.2),0.99,5)),CarState((124.34335269921638,3),28.220669571418867,0,BehaviorModel(IDMParam(2.0,2.0,0.8,28.225645195372238,4.0,4.0),MOBILParam(0.0,4.0,0.2),0.95,3))]),MLState(3,28.5,false,[CarState((180.1995694720151,1),32.58621673407258,0,BehaviorModel(IDMParam(1.5,1.5,1.4,32.606308649646884,4.0,4.0),MOBILParam(0.25,4.0,0.2),0.99,5)),CarState((64.59692133065113,3),27.58410624747766,0,BehaviorModel(IDMParam(1.5,1.5,1.4,32.0683132851447,4.0,4.0),MOBILParam(0.25,4.0,0.2),0.99,5)),CarState((124.69635487778054,3),28.22066750494229,0,BehaviorModel(IDMParam(2.0,2.0,0.8,28.225645195372238,4.0,4.0),MOBILParam(0.0,4.0,0.2),0.95,3))]),MLState(3,29.25,false,[CarState((183.26423202256953,1),32.58621706850101,0,BehaviorModel(IDMParam(1.5,1.5,1.4,32.606308649646884,4.0,4.0),MOBILParam(0.25,4.0,0.2),0.99,5)),CarState((63.91000101625937,3),27.610074892162583,0,BehaviorModel(IDMParam(1.5,1.5,1.4,32.0683132851447,4.0,4.0),MOBILParam(0.25,4.0,0.2),0.99,5)),CarState((124.48685550648726,3),28.220665877641597,0,BehaviorModel(IDMParam(2.0,2.0,0.8,28.225645195372238,4.0,4.0),MOBILParam(0.0,4.0,0.2),0.95,3))]),MLState(3,30.0,false,[CarState((185.7663948239453,1),32.58621735680793,0,BehaviorModel(IDMParam(1.5,1.5,1.4,32.606308649646884,4.0,4.0),MOBILParam(0.25,4.0,0.2),0.99,5)),CarState((62.68005718538131,3),27.634841594268178,0,BehaviorModel(IDMParam(1.5,1.5,1.4,32.0683132851447,4.0,4.0),MOBILParam(0.25,4.0,0.2),0.99,5)),CarState((123.71485491471846,3),28.220664596181297,0,BehaviorModel(IDMParam(2.0,2.0,0.8,28.225645195372238,4.0,4.0),MOBILParam(0.0,4.0,0.2),0.95,3))]),MLState(3,30.0,false,[CarState((187.70605784155123,1),32.58621760535403,0,BehaviorModel(IDMParam(1.5,1.5,1.4,32.606308649646884,4.0,4.0),MOBILParam(0.25,4.0,0.2),0.99,5)),CarState((60.906188381082444,3),27.658470651513056,0,BehaviorModel(IDMParam(1.5,1.5,1.4,32.0683132851447,4.0,4.0),MOBILParam(0.25,4.0,0.2),0.99,5)),CarState((122.38035336185443,3),28.220663587061978,0,BehaviorModel(IDMParam(2.0,2.0,0.8,28.225645195372238,4.0,4.0),MOBILParam(0.0,4.0,0.2),0.95,3))])]\n  at index [450]\nwhile loading In[14], in expression starting on line 7",
     "output_type": "error",
     "traceback": [
      "LoadError: BoundsError: attempt to access 1-element Array{Array{MLState,1},1}:\n [MLState(1,31.0,false,[CarState((-1.0,1),1.0,0,BehaviorModel(IDMParam(1.0,1.0,2.0,27.5,4.0,4.0),MOBILParam(0.5,4.0,0.2),0.999,1)),CarState((-1.0,1),1.0,0,BehaviorModel(IDMParam(1.0,1.0,2.0,27.5,4.0,4.0),MOBILParam(0.5,4.0,0.2),0.999,1)),CarState((-1.0,1),1.0,0,BehaviorModel(IDMParam(1.0,1.0,2.0,27.5,4.0,4.0),MOBILParam(0.5,4.0,0.2),0.999,1))]),MLState(1,28.75,false,[CarState((0.0,1),33.800110041549374,-1,BehaviorModel(IDMParam(1.5,1.5,1.4,32.606308649646884,4.0,4.0),MOBILParam(0.25,4.0,0.2),0.99,5)),CarState((0.0,3),33.00850170056128,-1,BehaviorModel(IDMParam(1.0,1.0,2.0,27.62558076529883,4.0,4.0),MOBILParam(0.5,4.0,0.2),0.999,1)),CarState((200.0,1),27.55225610756444,0,BehaviorModel(IDMParam(1.5,1.5,1.4,28.386478791622846,4.0,4.0),MOBILParam(0.25,4.0,0.2),0.99,2))]),MLState(1,29.5,false,[CarState((3.7875825311620304,1),33.192258444355105,0,BehaviorModel(IDMParam(1.5,1.5,1.4,32.606308649646884,4.0,4.0),MOBILParam(0.25,4.0,0.2),0.99,5)),CarState((3.193876275420962,2),32.25850170056128,1,BehaviorModel(IDMParam(1.0,1.0,2.0,27.62558076529883,4.0,4.0),MOBILParam(0.5,4.0,0.2),0.999,1)),CarState((199.10169208067333,1),27.676746904593276,0,BehaviorModel(IDMParam(1.5,1.5,1.4,28.386478791622846,4.0,4.0),MOBILParam(0.25,4.0,0.2),0.99,2))]),MLState(1,28.0,false,[CarState((6.556776364428359,1),32.72710414981733,0,BehaviorModel(IDMParam(1.5,1.5,1.4,32.606308649646884,4.0,4.0),MOBILParam(0.25,4.0,0.2),0.99,5)),CarState((5.262752550841924,3),31.508501700561283,0,BehaviorModel(IDMParam(1.0,1.0,2.0,27.62558076529883,4.0,4.0),MOBILParam(0.5,4.0,0.2),0.999,1)),CarState((197.73425225911828,1),27.78305253851937,0,BehaviorModel(IDMParam(1.5,1.5,1.4,28.386478791622846,4.0,4.0),MOBILParam(0.25,4.0,0.2),0.99,2))]),MLState(1,27.25,false,[CarState((10.102104476791355,1),32.364683719935954,0,BehaviorModel(IDMParam(1.5,1.5,1.4,32.606308649646884,4.0,4.0),MOBILParam(0.25,4.0,0.2),0.99,5)),CarState((7.894128826262886,3),30.9859433514908,0,BehaviorModel(IDMParam(1.0,1.0,2.0,27.62558076529883,4.0,4.0),MOBILParam(0.5,4.0,0.2),0.999,1)),CarState((197.5715416630078,1),27.87363408590805,0,BehaviorModel(IDMParam(1.5,1.5,1.4,28.386478791622846,4.0,4.0),MOBILParam(0.25,4.0,0.2),0.99,2))]),MLState(1,27.0,false,[CarState((13.93811726674332,1),32.078245647378104,0,BehaviorModel(IDMParam(1.5,1.5,1.4,32.606308649646884,4.0,4.0),MOBILParam(0.25,4.0,0.2),0.99,5)),CarState((10.696086339880985,3),30.545614172287507,0,BehaviorModel(IDMParam(1.0,1.0,2.0,27.62558076529883,4.0,4.0),MOBILParam(0.5,4.0,0.2),0.999,1)),CarState((198.03926722743884,1),27.950674261343345,0,BehaviorModel(IDMParam(1.5,1.5,1.4,28.386478791622846,4.0,4.0),MOBILParam(0.25,4.0,0.2),0.99,2))]),MLState(1,27.0,false,[CarState((17.7468015022769,1),31.849109084213136,0,BehaviorModel(IDMParam(1.5,1.5,1.4,32.606308649646884,4.0,4.0),MOBILParam(0.25,4.0,0.2),0.99,5)),CarState((13.355296969096615,3),30.171422503766323,0,BehaviorModel(IDMParam(1.0,1.0,2.0,27.62558076529883,4.0,4.0),MOBILParam(0.5,4.0,0.2),0.999,1)),CarState((198.75227292344636,1),28.016093118008907,0,BehaviorModel(IDMParam(1.5,1.5,1.4,28.386478791622846,4.0,4.0),MOBILParam(0.25,4.0,0.2),0.99,2))]),MLState(1,27.0,false,[CarState((21.38363331543675,1),31.6638049495226,0,BehaviorModel(IDMParam(1.5,1.5,1.4,32.606308649646884,4.0,4.0),MOBILParam(0.25,4.0,0.2),0.99,5)),CarState((15.733863846921357,3),29.851233173367316,0,BehaviorModel(IDMParam(1.0,1.0,2.0,27.62558076529883,4.0,4.0),MOBILParam(0.5,4.0,0.2),0.999,1)),CarState((199.51434276195303,1),28.07156801384842,0,BehaviorModel(IDMParam(1.5,1.5,1.4,28.386478791622846,4.0,4.0),MOBILParam(0.25,4.0,0.2),0.99,2))]),MLState(1,27.0,false,[CarState((24.8814870275787,1),31.51237978330458,0,BehaviorModel(IDMParam(1.5,1.5,1.4,32.606308649646884,4.0,4.0),MOBILParam(0.25,4.0,0.2),0.99,5)),CarState((17.872288726946845,3),29.575686405625255,0,BehaviorModel(IDMParam(1.0,1.0,2.0,27.62558076529883,4.0,4.0),MOBILParam(0.5,4.0,0.2),0.999,1)),CarState((-1.0,1),1.0,0,BehaviorModel(IDMParam(1.0,1.0,2.0,27.5,4.0,4.0),MOBILParam(0.5,4.0,0.2),0.999,1))]),MLState(1,27.0,false,[CarState((28.265771865057136,1),31.65331919836363,0,BehaviorModel(IDMParam(1.5,1.5,1.4,32.606308649646884,4.0,4.0),MOBILParam(0.25,4.0,0.2),0.99,5)),CarState((19.804053531165785,3),29.337426088060933,0,BehaviorModel(IDMParam(1.0,1.0,2.0,27.62558076529883,4.0,4.0),MOBILParam(0.5,4.0,0.2),0.999,1)),CarState((-1.0,1),1.0,0,BehaviorModel(IDMParam(1.0,1.0,2.0,27.5,4.0,4.0),MOBILParam(0.5,4.0,0.2),0.999,1))])  …  MLState(3,27.0,false,[CarState((156.18660219456632,1),32.586213251688314,0,BehaviorModel(IDMParam(1.5,1.5,1.4,32.606308649646884,4.0,4.0),MOBILParam(0.25,4.0,0.2),0.99,5)),CarState((63.55949403684808,3),27.399153687780952,0,BehaviorModel(IDMParam(1.5,1.5,1.4,32.0683132851447,4.0,4.0),MOBILParam(0.25,4.0,0.2),0.99,5)),CarState((120.3282992683822,3),28.220691957611812,0,BehaviorModel(IDMParam(2.0,2.0,0.8,28.225645195372238,4.0,4.0),MOBILParam(0.0,4.0,0.2),0.95,3))]),MLState(3,27.0,false,[CarState((160.37626213333255,1),32.5862140663773,0,BehaviorModel(IDMParam(1.5,1.5,1.4,32.606308649646884,4.0,4.0),MOBILParam(0.25,4.0,0.2),0.99,5)),CarState((63.8588593026838,3),27.433797996053727,0,BehaviorModel(IDMParam(1.5,1.5,1.4,32.0683132851447,4.0,4.0),MOBILParam(0.25,4.0,0.2),0.99,5)),CarState((121.24381823659105,3),28.22068513352565,0,BehaviorModel(IDMParam(2.0,2.0,0.8,28.225645195372238,4.0,4.0),MOBILParam(0.0,4.0,0.2),0.95,3))]),MLState(3,27.0,false,[CarState((164.56592268311553,1),32.586214768711386,0,BehaviorModel(IDMParam(1.5,1.5,1.4,32.606308649646884,4.0,4.0),MOBILParam(0.25,4.0,0.2),0.99,5)),CarState((64.18420779972409,3),27.466826116643055,0,BehaviorModel(IDMParam(1.5,1.5,1.4,32.0683132851447,4.0,4.0),MOBILParam(0.25,4.0,0.2),0.99,5)),CarState((122.15933208673529,3),28.2206797597247,0,BehaviorModel(IDMParam(2.0,2.0,0.8,28.225645195372238,4.0,4.0),MOBILParam(0.0,4.0,0.2),0.95,3))]),MLState(3,27.0,false,[CarState((168.75558375964908,1),32.586215374185585,0,BehaviorModel(IDMParam(1.5,1.5,1.4,32.606308649646884,4.0,4.0),MOBILParam(0.25,4.0,0.2),0.99,5)),CarState((64.53432738720639,3),27.49830029263509,0,BehaviorModel(IDMParam(1.5,1.5,1.4,32.0683132851447,4.0,4.0),MOBILParam(0.25,4.0,0.2),0.99,5)),CarState((123.07484190652882,3),28.220675527987144,0,BehaviorModel(IDMParam(2.0,2.0,0.8,28.225645195372238,4.0,4.0),MOBILParam(0.0,4.0,0.2),0.95,3))]),MLState(3,27.75,false,[CarState((172.94524529028828,1),32.58621589615798,0,BehaviorModel(IDMParam(1.5,1.5,1.4,32.606308649646884,4.0,4.0),MOBILParam(0.25,4.0,0.2),0.99,5)),CarState((64.9080526066827,3),27.52829018263415,0,BehaviorModel(IDMParam(1.5,1.5,1.4,32.0683132851447,4.0,4.0),MOBILParam(0.25,4.0,0.2),0.99,5)),CarState((123.99034855251918,3),28.220672195596276,0,BehaviorModel(IDMParam(2.0,2.0,0.8,28.225645195372238,4.0,4.0),MOBILParam(0.0,4.0,0.2),0.95,3))]),MLState(3,27.75,false,[CarState((176.57240721240677,1),32.58621634614442,0,BehaviorModel(IDMParam(1.5,1.5,1.4,32.606308649646884,4.0,4.0),MOBILParam(0.25,4.0,0.2),0.99,5)),CarState((64.74177024365832,3),27.55686811599041,0,BehaviorModel(IDMParam(1.5,1.5,1.4,32.0683132851447,4.0,4.0),MOBILParam(0.25,4.0,0.2),0.99,5)),CarState((124.34335269921638,3),28.220669571418867,0,BehaviorModel(IDMParam(2.0,2.0,0.8,28.225645195372238,4.0,4.0),MOBILParam(0.0,4.0,0.2),0.95,3))]),MLState(3,28.5,false,[CarState((180.1995694720151,1),32.58621673407258,0,BehaviorModel(IDMParam(1.5,1.5,1.4,32.606308649646884,4.0,4.0),MOBILParam(0.25,4.0,0.2),0.99,5)),CarState((64.59692133065113,3),27.58410624747766,0,BehaviorModel(IDMParam(1.5,1.5,1.4,32.0683132851447,4.0,4.0),MOBILParam(0.25,4.0,0.2),0.99,5)),CarState((124.69635487778054,3),28.22066750494229,0,BehaviorModel(IDMParam(2.0,2.0,0.8,28.225645195372238,4.0,4.0),MOBILParam(0.0,4.0,0.2),0.95,3))]),MLState(3,29.25,false,[CarState((183.26423202256953,1),32.58621706850101,0,BehaviorModel(IDMParam(1.5,1.5,1.4,32.606308649646884,4.0,4.0),MOBILParam(0.25,4.0,0.2),0.99,5)),CarState((63.91000101625937,3),27.610074892162583,0,BehaviorModel(IDMParam(1.5,1.5,1.4,32.0683132851447,4.0,4.0),MOBILParam(0.25,4.0,0.2),0.99,5)),CarState((124.48685550648726,3),28.220665877641597,0,BehaviorModel(IDMParam(2.0,2.0,0.8,28.225645195372238,4.0,4.0),MOBILParam(0.0,4.0,0.2),0.95,3))]),MLState(3,30.0,false,[CarState((185.7663948239453,1),32.58621735680793,0,BehaviorModel(IDMParam(1.5,1.5,1.4,32.606308649646884,4.0,4.0),MOBILParam(0.25,4.0,0.2),0.99,5)),CarState((62.68005718538131,3),27.634841594268178,0,BehaviorModel(IDMParam(1.5,1.5,1.4,32.0683132851447,4.0,4.0),MOBILParam(0.25,4.0,0.2),0.99,5)),CarState((123.71485491471846,3),28.220664596181297,0,BehaviorModel(IDMParam(2.0,2.0,0.8,28.225645195372238,4.0,4.0),MOBILParam(0.0,4.0,0.2),0.95,3))]),MLState(3,30.0,false,[CarState((187.70605784155123,1),32.58621760535403,0,BehaviorModel(IDMParam(1.5,1.5,1.4,32.606308649646884,4.0,4.0),MOBILParam(0.25,4.0,0.2),0.99,5)),CarState((60.906188381082444,3),27.658470651513056,0,BehaviorModel(IDMParam(1.5,1.5,1.4,32.0683132851447,4.0,4.0),MOBILParam(0.25,4.0,0.2),0.99,5)),CarState((122.38035336185443,3),28.220663587061978,0,BehaviorModel(IDMParam(2.0,2.0,0.8,28.225645195372238,4.0,4.0),MOBILParam(0.0,4.0,0.2),0.95,3))])]\n  at index [450]\nwhile loading In[14], in expression starting on line 7",
      "",
      " in getindex at array.jl:282"
     ]
    }
   ],
   "source": [
    "#Tree visualization--does not work\n",
    "function MCTS.node_tag(s::MLState)\n",
    "    return \"[$(s.agent_pos),$(s.agent_vel)]\"\n",
    "end\n",
    "\n",
    "MCTS.node_tag(a::MLAction) = \"[$(a.vel),$(a.lane_change)]\"\n",
    "TreeVisualizer(policy, histS[450])\n"
   ]
  },
  {
   "cell_type": "code",
   "execution_count": null,
   "metadata": {
    "collapsed": false
   },
   "outputs": [],
   "source": [
    "#This stuff VVV is for dumping to a mp4 file--requires ffmpeg\n",
    "using PyCall\n",
    "@pyimport matplotlib.animation as anim"
   ]
  },
  {
   "cell_type": "code",
   "execution_count": null,
   "metadata": {
    "collapsed": false
   },
   "outputs": [],
   "source": [
    "X = reverse(histS)\n",
    "Y = reverse(histA)\n",
    "function func(x...)\n",
    "    if length(X) < 1\n",
    "        return\n",
    "    end\n",
    "    s = pop!(X)\n",
    "    a = pop!(Y)\n",
    "    visualize(pomdp,s,a)\n",
    "end"
   ]
  },
  {
   "cell_type": "code",
   "execution_count": null,
   "metadata": {
    "collapsed": false
   },
   "outputs": [],
   "source": [
    "fig = figure()\n",
    "ani=anim.FuncAnimation(fig,func)\n",
    "fname = \"MCTS_3lane5car.mp4\"\n",
    "\n",
    "ani[:save](fname, extra_args=[\"-vcodec\", \"libx264\", \"-pix_fmt\", \"yuv420p\"]);\n",
    "\n",
    "# # call our new function to display the animation\n",
    "display(\"text/html\", string(\"\"\"<video autoplay controls><source src=\"data:video/x-m4v;base64,\"\"\",\n",
    "base64encode(open(readbytes,fname)),\"\"\"\" type=\"video/mp4\"></video>\"\"\"));"
   ]
  }
 ],
 "metadata": {
  "kernelspec": {
   "display_name": "Julia 0.4.0",
   "language": "julia",
   "name": "julia-0.4"
  },
  "language_info": {
   "file_extension": ".jl",
   "mimetype": "application/julia",
   "name": "julia",
   "version": "0.4.2"
  }
 },
 "nbformat": 4,
 "nbformat_minor": 0
}
