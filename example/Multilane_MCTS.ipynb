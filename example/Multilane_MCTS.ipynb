{
 "cells": [
  {
   "cell_type": "code",
   "execution_count": null,
   "metadata": {
    "collapsed": false
   },
   "outputs": [],
   "source": [
    "#Requires MCTS, POMDPs\n",
    "#include(joinpath(\"MultiLanePOMDP\",\"src\",\"Multilane.jl\"))\n",
    "include(joinpath(\"..\",\"src\",\"Multilane.jl\"))\n",
    "\n",
    "function MCTS.generate(mdp::MLPOMDP,s::MLState,a::MLAction,rng::AbstractRNG)\n",
    "  #println(\"hey\")\n",
    "  sp = next(rng,mdp,s,a)\n",
    "  r = reward(mdp,s,a,sp)\n",
    "  return (sp,r)\n",
    "end"
   ]
  },
  {
   "cell_type": "code",
   "execution_count": null,
   "metadata": {
    "collapsed": false
   },
   "outputs": [],
   "source": [
    "#Set up problem configuration\n",
    "nb_lanes = 2\n",
    "pp = PhysicalParam(nb_lanes,lane_length=200.) #2.=>col_length=8\n",
    "r_crash = -1.\n",
    "accel_cost = -1e-5\n",
    "decel_cost = -5e-6\n",
    "invalid_cost = -1e-5\n",
    "lineride_cost = -1e-5\n",
    "lanechange_cost = -2e-5\n",
    "_discount = 1.\n",
    "pomdp = MLPOMDP(nb_cars=3,nb_lanes=nb_lanes,phys_param=pp,p_fail_enter=-0.01,\n",
    "            r_crash=r_crash,accel_cost=accel_cost,decel_cost=decel_cost,\n",
    "invalid_cost=invalid_cost,lineride_cost=lineride_cost,lanechange_cost=lanechange_cost,discount=_discount)"
   ]
  },
  {
   "cell_type": "code",
   "execution_count": null,
   "metadata": {
    "collapsed": false,
    "scrolled": true
   },
   "outputs": [],
   "source": [
    "# initialize the solver\n",
    "# the hyper parameters in MCTS can be tricky to set properly\n",
    "# n_iterations: the number of iterations that each search runs for\n",
    "# depth: the depth of the tree (how far away from the current state the algorithm explores)\n",
    "# exploration constant: this is how much weight to put into exploratory actions. \n",
    "# A good rule of thumb is to set the exploration constant to what you expect the upper bound on your average \n",
    "#  expected reward to be.\n",
    "\n",
    "solver = MCTSSolver(n_iterations=100, depth=10, exploration_constant=1.0)\n",
    "\n",
    "# initialize the policy by passing in your problem and the solver\n",
    "policy = MCTSPolicy(solver, pomdp)"
   ]
  },
  {
   "cell_type": "code",
   "execution_count": null,
   "metadata": {
    "collapsed": false,
    "scrolled": true
   },
   "outputs": [],
   "source": [
    "rng = MersenneTwister(9) # initialize a random number generator\n",
    "n_ep = 6\n",
    "Rs = [Float64[] for _=1:n_ep]#zeros(n_ep)\n",
    "nb_early_term = 0\n",
    "histS = Array{MLState,1}[]\n",
    "histA = Array{MLAction,1}[]\n",
    "for j = 1:n_ep\n",
    "    push!(histS,MLState[])\n",
    "    push!(histA,MLAction[])\n",
    "    s = init(pomdp,rng)\n",
    "    rtot = 0.0\n",
    "    disc = 1.0\n",
    "    for i = 1:1000\n",
    "        # get the action from our SARSOP policy\n",
    "        a = action(policy, s) # the QMDP action function returns the POMDP action not its index like the SARSOP action function\n",
    "        #if j == n_ep\n",
    "            push!(histS[j],s)\n",
    "            push!(histA[j],a)\n",
    "        #end\n",
    "        # compute the reward\n",
    "        r = reward(pomdp, s, a)\n",
    "        push!(Rs[j],r)\n",
    "        rtot += disc*r\n",
    "        if isterminal(pomdp,s,a)\n",
    "            nb_early_term += 1\n",
    "            break\n",
    "        end\n",
    "        disc *= discount(pomdp)\n",
    "        print(\"\\rEp:$j, t=$i\")\n",
    "        # transition the system state\n",
    "        \"\"\"\n",
    "        trans_dist = transition(mdp, s, a)\n",
    "        rand(rng, trans_dist, s)\n",
    "        \"\"\"\n",
    "        s = next(rng,pomdp,s,a)\n",
    "    end\n",
    "    #Rs[j] = rtot\n",
    "    print(\"\\rTotal discounted reward: $rtot\")\n",
    "end"
   ]
  },
  {
   "cell_type": "code",
   "execution_count": null,
   "metadata": {
    "collapsed": false,
    "scrolled": false
   },
   "outputs": [],
   "source": [
    "blas = 6\n",
    "display_sim(pomdp,histS[blas],histA[blas])\n",
    "#Warning! Only use if it crashes relatively early--unintelligible otherwise\n",
    "#abs_display_sim(pomdp,histS[blas],histA[blas])"
   ]
  },
  {
   "cell_type": "code",
   "execution_count": null,
   "metadata": {
    "collapsed": false
   },
   "outputs": [],
   "source": [
    "j = 52 #if there's early stopping, else j = n_ep\n",
    "crash_rate = nb_early_term/j\n",
    "println(\"$crash_rate +/- $(sqrt(crash_rate*(1.-crash_rate)/j))\")\n",
    "nb_early_term"
   ]
  },
  {
   "cell_type": "code",
   "execution_count": null,
   "metadata": {
    "collapsed": false
   },
   "outputs": [],
   "source": [
    "#Calculate the total (discounted/undiscounted) cost, minus crashing\n",
    "n_ep = 52\n",
    "R_disc = zeros(n_ep)\n",
    "R_MC = zeros(n_ep)\n",
    "for (ep,R) in enumerate(Rs[1:n_ep])\n",
    "    disc = 1.\n",
    "    for i =1:length(R)-1\n",
    "        r = R[i]\n",
    "        R_disc[ep] += disc*r\n",
    "        disc *= 0.99\n",
    "        R_MC[ep] += r\n",
    "    end\n",
    "end\n",
    "\n",
    "println((mean(R_MC),std(R_MC)))\n",
    "println((mean(R_disc),std(R_disc)))\n",
    "println(nb_early_term)\n",
    "#ec=10:  ~30% crash, -0.08 reward\n",
    "#ec=100: ~36% crash, -0.1578 reward\n",
    "#ec=30: ~24.8% crash, -0.09 reward || 32.72% crash, -0.1467 reward (100 sim)\n",
    "#ec=60: ~44% crash, -0.177 reward\n",
    "###4 cars, 3 lanes: 41% crash rate, -0.126 reward"
   ]
  },
  {
   "cell_type": "code",
   "execution_count": null,
   "metadata": {
    "collapsed": false,
    "scrolled": true
   },
   "outputs": [],
   "source": [
    "#Tree visualization--does not work\n",
    "function MCTS.node_tag(s::MLState)\n",
    "    return \"[$(s.agent_pos),$(s.agent_vel)]\"\n",
    "end\n",
    "\n",
    "MCTS.node_tag(a::MLAction) = \"[$(a.vel),$(a.lane_change)]\"\n",
    "TreeVisualizer(policy, histS[450])\n"
   ]
  },
  {
   "cell_type": "code",
   "execution_count": null,
   "metadata": {
    "collapsed": false
   },
   "outputs": [],
   "source": [
    "#This stuff VVV is for dumping to a mp4 file--requires ffmpeg\n",
    "using PyCall\n",
    "@pyimport matplotlib.animation as anim"
   ]
  },
  {
   "cell_type": "code",
   "execution_count": null,
   "metadata": {
    "collapsed": false
   },
   "outputs": [],
   "source": [
    "X = reverse(histS)\n",
    "Y = reverse(histA)\n",
    "function func(x...)\n",
    "    if length(X) < 1\n",
    "        return\n",
    "    end\n",
    "    s = pop!(X)\n",
    "    a = pop!(Y)\n",
    "    visualize(pomdp,s,a)\n",
    "end"
   ]
  },
  {
   "cell_type": "code",
   "execution_count": null,
   "metadata": {
    "collapsed": false
   },
   "outputs": [],
   "source": [
    "fig = figure()\n",
    "ani=anim.FuncAnimation(fig,func)\n",
    "fname = \"MCTS_3lane5car.mp4\"\n",
    "\n",
    "ani[:save](fname, extra_args=[\"-vcodec\", \"libx264\", \"-pix_fmt\", \"yuv420p\"]);\n",
    "\n",
    "# # call our new function to display the animation\n",
    "display(\"text/html\", string(\"\"\"<video autoplay controls><source src=\"data:video/x-m4v;base64,\"\"\",\n",
    "base64encode(open(readbytes,fname)),\"\"\"\" type=\"video/mp4\"></video>\"\"\"));"
   ]
  }
 ],
 "metadata": {
  "kernelspec": {
   "display_name": "Julia 0.4.2",
   "language": "julia",
   "name": "julia-0.4"
  },
  "language_info": {
   "file_extension": ".jl",
   "mimetype": "application/julia",
   "name": "julia",
   "version": "0.4.2"
  }
 },
 "nbformat": 4,
 "nbformat_minor": 0
}
